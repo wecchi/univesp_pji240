{
 "cells": [
  {
   "cell_type": "markdown",
   "id": "49dcb128-e9cb-4a59-a960-7afc5400854a",
   "metadata": {},
   "source": [
    "# Distribuição de Frequências\n",
    "\n",
    "SICSÚ, Abraham L.; DANA, Samy. **Estatística Aplicada**: Análise Exploratória de Dados. São Paulo: Editora Saraiva, 2012. 9788502177574\n",
    "\n",
    "[Minha biblioteca](https://integrada.minhabiblioteca.com.br/#/books/9788502177574/)\n",
    "\n",
    "O número de chamados ao serviço de manutenção da fábrica GVTECH em 60 dias úteis consecutivos (cada semana corresponde a uma linha do arquivo CSV - de 2ª a 6ª).\n",
    "\n",
    "> `a.`\trepresente graficamente a distribuição de frequências do número de chamados e analise-a. Ignore o missing value da oitava semana.\n",
    ">\n",
    "> `b.` O diagrama de barras permite dizer se o número de chamadas é maior em um dia da semana particular? Por quê? \n",
    ">\n",
    "> `c.`\tConsiderando que você tem os dados em ordem cronológica, que outro tipo de análise deveria fazer? que tipo de informação você obteria? \n",
    ">\n",
    "> `d.`\tSe você fosse “obrigado” a utilizar um valor no lugar do missing value, que valor utilizaria?\n",
    "> - R: _O valor ZERO (0) poderia ser aplicado ao feriado, pois não há expediente da fábrica no feriado e consequentemente chamado de ocorrência para essa data_\n"
   ]
  },
  {
   "cell_type": "code",
   "execution_count": 2,
   "id": "4d24de81-089f-4e3d-b82c-29aa6656953a",
   "metadata": {},
   "outputs": [],
   "source": [
    "import numpy as np\n",
    "import pandas as pd"
   ]
  },
  {
   "cell_type": "code",
   "execution_count": 14,
   "id": "32763f0d-5415-4fd4-adf7-0e4d4a56b9ab",
   "metadata": {},
   "outputs": [
    {
     "data": {
      "text/html": [
       "<div>\n",
       "<style scoped>\n",
       "    .dataframe tbody tr th:only-of-type {\n",
       "        vertical-align: middle;\n",
       "    }\n",
       "\n",
       "    .dataframe tbody tr th {\n",
       "        vertical-align: top;\n",
       "    }\n",
       "\n",
       "    .dataframe thead th {\n",
       "        text-align: right;\n",
       "    }\n",
       "</style>\n",
       "<table border=\"1\" class=\"dataframe\">\n",
       "  <thead>\n",
       "    <tr style=\"text-align: right;\">\n",
       "      <th></th>\n",
       "      <th>seg</th>\n",
       "      <th>ter</th>\n",
       "      <th>qua</th>\n",
       "      <th>qui</th>\n",
       "      <th>sex</th>\n",
       "    </tr>\n",
       "  </thead>\n",
       "  <tbody>\n",
       "    <tr>\n",
       "      <th>1</th>\n",
       "      <td>1</td>\n",
       "      <td>2</td>\n",
       "      <td>3</td>\n",
       "      <td>0</td>\n",
       "      <td>2</td>\n",
       "    </tr>\n",
       "    <tr>\n",
       "      <th>2</th>\n",
       "      <td>4</td>\n",
       "      <td>3</td>\n",
       "      <td>2</td>\n",
       "      <td>2</td>\n",
       "      <td>2</td>\n",
       "    </tr>\n",
       "    <tr>\n",
       "      <th>3</th>\n",
       "      <td>1</td>\n",
       "      <td>2</td>\n",
       "      <td>0</td>\n",
       "      <td>2</td>\n",
       "      <td>4</td>\n",
       "    </tr>\n",
       "  </tbody>\n",
       "</table>\n",
       "</div>"
      ],
      "text/plain": [
       "   seg  ter  qua  qui  sex\n",
       "1    1    2    3    0    2\n",
       "2    4    3    2    2    2\n",
       "3    1    2    0    2    4"
      ]
     },
     "execution_count": 14,
     "metadata": {},
     "output_type": "execute_result"
    }
   ],
   "source": [
    "df = pd.read_csv(\"D:\\Data\\PJI240\\GVTECH.csv\", sep=';',\n",
    "                 names = ['seg', 'ter', 'qua', 'qui', 'sex'],\n",
    "                 dtype = np.int16)\n",
    "df.index = range(1, len(df)+1)\n",
    "df.head(3)"
   ]
  },
  {
   "cell_type": "code",
   "execution_count": 15,
   "id": "98e523af-f9c0-4297-b6b0-e9d55d9eccb6",
   "metadata": {},
   "outputs": [
    {
     "name": "stdout",
     "output_type": "stream",
     "text": [
      "<class 'pandas.core.frame.DataFrame'>\n",
      "RangeIndex: 12 entries, 1 to 12\n",
      "Data columns (total 5 columns):\n",
      " #   Column  Non-Null Count  Dtype\n",
      "---  ------  --------------  -----\n",
      " 0   seg     12 non-null     int16\n",
      " 1   ter     12 non-null     int16\n",
      " 2   qua     12 non-null     int16\n",
      " 3   qui     12 non-null     int16\n",
      " 4   sex     12 non-null     int16\n",
      "dtypes: int16(5)\n",
      "memory usage: 252.0 bytes\n"
     ]
    }
   ],
   "source": [
    "df.info()"
   ]
  },
  {
   "cell_type": "code",
   "execution_count": 18,
   "id": "e916da5b-305a-4fd4-8645-44f4a8b4c5c4",
   "metadata": {},
   "outputs": [],
   "source": [
    "# Obtendo as 60 observações indistintamente\n",
    "df_stacked = df.stack()"
   ]
  },
  {
   "cell_type": "code",
   "execution_count": 19,
   "id": "8608da1a-6c3a-4c64-956e-cd25805c2e6c",
   "metadata": {},
   "outputs": [
    {
     "data": {
      "text/plain": [
       "(0, 4)"
      ]
     },
     "execution_count": 19,
     "metadata": {},
     "output_type": "execute_result"
    }
   ],
   "source": [
    "# Obtendo-se a aplitude da amostra\n",
    "np.min(df_stacked), np.max(df_stacked)"
   ]
  },
  {
   "cell_type": "code",
   "execution_count": 20,
   "id": "83692968-c6f9-44a0-b9ee-57bccbda1ce3",
   "metadata": {},
   "outputs": [
    {
     "data": {
      "text/plain": [
       "2    23\n",
       "1    14\n",
       "0     8\n",
       "4     8\n",
       "3     7\n",
       "dtype: int64"
      ]
     },
     "execution_count": 20,
     "metadata": {},
     "output_type": "execute_result"
    }
   ],
   "source": [
    "# Obtendo-se os valores distintos\n",
    "df_stacked.value_counts()"
   ]
  },
  {
   "cell_type": "markdown",
   "id": "ee40c63f-b187-4b08-8a98-59d50235a09b",
   "metadata": {},
   "source": [
    "## `a.` Distribuição de frequência"
   ]
  },
  {
   "cell_type": "markdown",
   "id": "babe71f8-cb06-42cd-89c2-1268c03020e4",
   "metadata": {},
   "source": [
    "### Para todas as observações"
   ]
  },
  {
   "cell_type": "code",
   "execution_count": 26,
   "id": "812c008b-046f-4110-ae38-70bcaa7a510f",
   "metadata": {},
   "outputs": [
    {
     "data": {
      "text/plain": [
       "<AxesSubplot:>"
      ]
     },
     "execution_count": 26,
     "metadata": {},
     "output_type": "execute_result"
    },
    {
     "data": {
      "image/png": "[encoded data removed]",
      "text/plain": [
       "<Figure size 432x288 with 1 Axes>"
      ]
     },
     "metadata": {
      "needs_background": "light"
     },
     "output_type": "display_data"
    }
   ],
   "source": [
    "# Para as 60 observações\n",
    "df_stacked.hist(bins=5)"
   ]
  },
  {
   "cell_type": "code",
   "execution_count": 33,
   "id": "e101126b-2514-47bb-b9e7-eca610851bc4",
   "metadata": {},
   "outputs": [
    {
     "data": {
      "text/plain": [
       "seg    1.833333\n",
       "ter    1.833333\n",
       "qua    2.333333\n",
       "qui    1.416667\n",
       "sex    2.000000\n",
       "dtype: float64"
      ]
     },
     "execution_count": 33,
     "metadata": {},
     "output_type": "execute_result"
    }
   ],
   "source": [
    "np.mean(df)"
   ]
  },
  {
   "cell_type": "code",
   "execution_count": 42,
   "id": "301b172c-d465-4144-bcc2-cccba4feaa14",
   "metadata": {},
   "outputs": [
    {
     "data": {
      "text/html": [
       "<div>\n",
       "<style scoped>\n",
       "    .dataframe tbody tr th:only-of-type {\n",
       "        vertical-align: middle;\n",
       "    }\n",
       "\n",
       "    .dataframe tbody tr th {\n",
       "        vertical-align: top;\n",
       "    }\n",
       "\n",
       "    .dataframe thead th {\n",
       "        text-align: right;\n",
       "    }\n",
       "</style>\n",
       "<table border=\"1\" class=\"dataframe\">\n",
       "  <thead>\n",
       "    <tr style=\"text-align: right;\">\n",
       "      <th></th>\n",
       "      <th>seg</th>\n",
       "      <th>ter</th>\n",
       "      <th>qua</th>\n",
       "      <th>qui</th>\n",
       "      <th>sex</th>\n",
       "    </tr>\n",
       "  </thead>\n",
       "  <tbody>\n",
       "    <tr>\n",
       "      <th>count</th>\n",
       "      <td>12.000000</td>\n",
       "      <td>12.000000</td>\n",
       "      <td>12.000000</td>\n",
       "      <td>12.000000</td>\n",
       "      <td>12.000000</td>\n",
       "    </tr>\n",
       "    <tr>\n",
       "      <th>mean</th>\n",
       "      <td>1.833333</td>\n",
       "      <td>1.833333</td>\n",
       "      <td>2.333333</td>\n",
       "      <td>1.416667</td>\n",
       "      <td>2.000000</td>\n",
       "    </tr>\n",
       "    <tr>\n",
       "      <th>std</th>\n",
       "      <td>1.267304</td>\n",
       "      <td>1.029857</td>\n",
       "      <td>1.154701</td>\n",
       "      <td>0.900337</td>\n",
       "      <td>1.537412</td>\n",
       "    </tr>\n",
       "    <tr>\n",
       "      <th>min</th>\n",
       "      <td>0.000000</td>\n",
       "      <td>0.000000</td>\n",
       "      <td>0.000000</td>\n",
       "      <td>0.000000</td>\n",
       "      <td>0.000000</td>\n",
       "    </tr>\n",
       "    <tr>\n",
       "      <th>25%</th>\n",
       "      <td>1.000000</td>\n",
       "      <td>1.000000</td>\n",
       "      <td>2.000000</td>\n",
       "      <td>1.000000</td>\n",
       "      <td>0.750000</td>\n",
       "    </tr>\n",
       "    <tr>\n",
       "      <th>50%</th>\n",
       "      <td>1.500000</td>\n",
       "      <td>2.000000</td>\n",
       "      <td>2.000000</td>\n",
       "      <td>1.500000</td>\n",
       "      <td>2.000000</td>\n",
       "    </tr>\n",
       "    <tr>\n",
       "      <th>75%</th>\n",
       "      <td>2.250000</td>\n",
       "      <td>2.000000</td>\n",
       "      <td>3.000000</td>\n",
       "      <td>2.000000</td>\n",
       "      <td>3.250000</td>\n",
       "    </tr>\n",
       "    <tr>\n",
       "      <th>max</th>\n",
       "      <td>4.000000</td>\n",
       "      <td>4.000000</td>\n",
       "      <td>4.000000</td>\n",
       "      <td>3.000000</td>\n",
       "      <td>4.000000</td>\n",
       "    </tr>\n",
       "  </tbody>\n",
       "</table>\n",
       "</div>"
      ],
      "text/plain": [
       "             seg        ter        qua        qui        sex\n",
       "count  12.000000  12.000000  12.000000  12.000000  12.000000\n",
       "mean    1.833333   1.833333   2.333333   1.416667   2.000000\n",
       "std     1.267304   1.029857   1.154701   0.900337   1.537412\n",
       "min     0.000000   0.000000   0.000000   0.000000   0.000000\n",
       "25%     1.000000   1.000000   2.000000   1.000000   0.750000\n",
       "50%     1.500000   2.000000   2.000000   1.500000   2.000000\n",
       "75%     2.250000   2.000000   3.000000   2.000000   3.250000\n",
       "max     4.000000   4.000000   4.000000   3.000000   4.000000"
      ]
     },
     "execution_count": 42,
     "metadata": {},
     "output_type": "execute_result"
    }
   ],
   "source": [
    "df.describe()"
   ]
  },
  {
   "cell_type": "markdown",
   "id": "39411eeb-c68b-4dba-8345-23e7ebfd3541",
   "metadata": {},
   "source": [
    "<u>Comentários:</u> Observando-se a distribuição de frequência para todas observações (doze semanas corridas), podemos verificar que a maioria dos números de chamados (por dia) para manutenção da fábrica está entre 0 e 2 chamados. Sendo que a maior média observada ocorreu na 4ª feira e a menor na 5ª, inclusive para este dia não houve mais de 3 chamados no dia. 4ª feira parece ser o dia mais requisitado em relação aos chamados, pois o intervalo interquartil (IQR representa os 50% do meio de um conjunto de dados) situa-se em 2 chamados."
   ]
  },
  {
   "cell_type": "markdown",
   "id": "e7170bf0-66bb-4c83-9397-f8224ed8ef35",
   "metadata": {},
   "source": [
    "## `b.` Segregando-se as observações por dia da semana"
   ]
  },
  {
   "cell_type": "code",
   "execution_count": 39,
   "id": "b76da014-56fc-4b18-b6b3-e5de6e0416d4",
   "metadata": {},
   "outputs": [
    {
     "data": {
      "text/plain": [
       "array([[<AxesSubplot:title={'center':'seg'}>,\n",
       "        <AxesSubplot:title={'center':'ter'}>],\n",
       "       [<AxesSubplot:title={'center':'qua'}>,\n",
       "        <AxesSubplot:title={'center':'qui'}>],\n",
       "       [<AxesSubplot:title={'center':'sex'}>, <AxesSubplot:>]],\n",
       "      dtype=object)"
      ]
     },
     "execution_count": 39,
     "metadata": {},
     "output_type": "execute_result"
    },
    {
     "data": {
      "image/png": "[encoded data removed]",
      "text/plain": [
       "<Figure size 1080x720 with 6 Axes>"
      ]
     },
     "metadata": {
      "needs_background": "light"
     },
     "output_type": "display_data"
    }
   ],
   "source": [
    "# Por dia da semana\n",
    "df.hist(figsize=(15,10), bins=5)"
   ]
  },
  {
   "cell_type": "code",
   "execution_count": 43,
   "id": "749ca360-8507-425a-9610-4b5947eee85e",
   "metadata": {},
   "outputs": [
    {
     "data": {
      "text/plain": [
       "seg    22\n",
       "ter    22\n",
       "qua    28\n",
       "qui    17\n",
       "sex    24\n",
       "dtype: int64"
      ]
     },
     "execution_count": 43,
     "metadata": {},
     "output_type": "execute_result"
    }
   ],
   "source": [
    "df.sum()"
   ]
  },
  {
   "cell_type": "code",
   "execution_count": 47,
   "id": "b9e30165-34fa-4bbe-84dc-6c8b5a2e4969",
   "metadata": {},
   "outputs": [
    {
     "data": {
      "text/plain": [
       "22.6"
      ]
     },
     "execution_count": 47,
     "metadata": {},
     "output_type": "execute_result"
    }
   ],
   "source": [
    "np.mean(df.sum())"
   ]
  },
  {
   "cell_type": "markdown",
   "id": "619f4dd3-fc7d-42b0-a209-e71515e74e22",
   "metadata": {},
   "source": [
    "<u>Comentários:</u> Para 2ª feira a maioria dos chamados ficaram entre 1 a 2 por dia. Já para 3ª e 4ª feira em 2 por dia. 5ª feira parece ser o dia com menos intercorrências de manutenção pois o total no período foi de 17 quando a média, por dia foi de 22.6. Quanto a 6ª a distribuição é uniforme, com muitas ocorrências acumuladas.\n",
    "\n",
    "## `c.` Que tipo de análsie poderia ser feita por dia da semana?\n",
    "\n",
    "Vide comentários acima referente a distribuição de frequência por dia da semana. Além disso:\n",
    "\n",
    "- A partir da 4ª feira os atendimentos para chamados de manutanção devem ser intensificados para que sejam atendidos até 6ª feira.\n",
    "- É possível que os dias de 5ª e 6ª, pela análise inicial, acumulem, indevidamente chamados não atendidos nos dias anteriores"
   ]
  },
  {
   "cell_type": "code",
   "execution_count": null,
   "id": "401642e9-6591-4576-a048-23cd84af4cbc",
   "metadata": {},
   "outputs": [],
   "source": []
  }
 ],
 "metadata": {
  "kernelspec": {
   "display_name": "Python 3 (ipykernel)",
   "language": "python",
   "name": "python3"
  },
  "language_info": {
   "codemirror_mode": {
    "name": "ipython",
    "version": 3
   },
   "file_extension": ".py",
   "mimetype": "text/x-python",
   "name": "python",
   "nbconvert_exporter": "python",
   "pygments_lexer": "ipython3",
   "version": "3.9.7"
  }
 },
 "nbformat": 4,
 "nbformat_minor": 5
}
