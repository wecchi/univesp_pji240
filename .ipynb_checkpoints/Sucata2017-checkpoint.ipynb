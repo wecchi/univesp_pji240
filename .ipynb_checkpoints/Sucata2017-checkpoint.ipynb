{
 "cells": [
  {
   "cell_type": "markdown",
   "id": "400f3abd-a017-4137-897b-eabddc239d6d",
   "metadata": {},
   "source": [
    "# Análise de pneus classificados como \"sucata\" após inspeção em campo\n",
    "\n",
    "Pneus retirados de circulação dos camihões pertencentes à frotas de transportes de carga ficam aguardando uma análise minuciosa por especialistas para determinar o destino mais adequado a cada uma dessas uniades pneumáticas. Durante verificações sistemáticas do estado dos pneus, em campo, o inspetor faz uma série de checagens e conforme sua impressão/aval poderá solicitar a retirada e substituição do mesmo por questões de segurança. Em 2017 foram recolhidos `890` pneus pela empresa de transporte _\"XPTO Campinas 2017 Ltda\"_. Os dados de cada uma destas unidades pneumáticas será alvo de nossa análise **KDD**.\n",
    "\n",
    "**Objetivo da análise de dados** responder os questionamentos:\n",
    "> 1. \"Quanto tempo roda um pneu antes de ser sucateado?\" Por `sulco`, por `tipo`, por `vida`, por `anomalia`\n",
    ">\n",
    "> 2. \"Qual marca de pneu é mais sucateada?\" Por `medida`, por `modelo`\n",
    ">\n",
    "> 3. \"Existe correlção entre tempo de uso do pneu e\" `modelo`, `sistema de reforma`, `tipo`, `vida`?\n",
    ">\n",
    "> 4. \"Qual anomalia provoca mais sucateamento?\"\n",
    ">\n",
    "> 5. \"Como é o aproveitamento `sulco` dos pneus sucateados?\""
   ]
  },
  {
   "cell_type": "code",
   "execution_count": 1,
   "id": "303c4342-4fbf-4635-8276-5a34dfbefa48",
   "metadata": {
    "jupyter": {
     "source_hidden": true
    },
    "tags": []
   },
   "outputs": [],
   "source": [
    "#@title Carga das bibliotecas\n",
    "import pandas as pd\n",
    "import numpy as np\n",
    "import matplotlib.pyplot as plt\n",
    "import seaborn as sns"
   ]
  },
  {
   "cell_type": "markdown",
   "id": "ad4d9131-6dbb-4187-b437-4d81c4dba333",
   "metadata": {},
   "source": [
    "## Dicionário de dados\n",
    "\n",
    "- `No FOGO` numeração única destinada à identficação do pneu\n",
    "- `MEDIDA` codificação que fornece as principais mediadas do pneu: Largura da seção nominal do pneu em mm. Diâmetro do aro em polegadas. Série (altura da seção = % da largura da seção). Por exemplo: _295/80R22.5_\n",
    "- `FABRICANTE` mnemônico que identifica a indústria que produziu o pneu\n",
    "- `MODELO` codificação que sintetiza o tipo de uso recomendado, índices de carga e de velocidade máximas permitido\n",
    "- `DOT` (_Departament Of Transportation_) do pneu corresponde à sua data de fabricação. É composto por 4 números que informam a semana (para pneus mais novos) e ano de fabricação. Por exemplo _3713_ indica fabricado na 37ª semana do ano 2013\n",
    "- `SULCO` altura da borracha usável em mm (um pneu novo possui 16.0 mm de sulco)\n",
    "- `SIST.REF` Identificação do sistema de reforma aplicado ao pneu <1-recauchutagem, 2-recapagem e 3-remoldagem>. O serviço de reforma de pneus envolve os processos de recapagem (substituição da banda de rodagem - parte do pneu que entra em contato com o solo), recauchutagem (substituição da banda de rodagem e seus ombros - parte externa entre a banda de rodagem e seu flanco, parte lateral do pneu) e a remoldagem (substituição da rodagem, seus ombros e toda a superfície dos flancos). \n",
    "- `TIPO` determina o tipo de serviço aplicado ao pneu enquanto estava no uso <T-Tração ou L-Liso ou M-Misto>\n",
    "- `VIDA` quantidade da reformas <NV-pneu novo, não teve reforma; 1,2,3, .... n-número de vezes reformado>\n",
    "- `ANOMALIA` código do laudo aplicado pelo inspetor (existem 3 códigos em atributos diferentes, o principal é o primeiro laudo e o mais importante, aquele que fez com que o pneu fosse retirado de circulação, os demais são complementares."
   ]
  },
  {
   "cell_type": "markdown",
   "id": "ee93495d-c0a1-4ac0-8db8-3140e76606a3",
   "metadata": {
    "jp-MarkdownHeadingCollapsed": true,
    "tags": []
   },
   "source": [
    "### Código dos laudos"
   ]
  },
  {
   "cell_type": "markdown",
   "id": "a703a015-2941-441a-ba69-fe77a375046f",
   "metadata": {
    "tags": []
   },
   "source": [
    "|Código|Descrição|\n",
    "|:--:|:--|\n",
    "|01|\tPerfurações na banda de rodagem|\n",
    "|02|\tArrancamento no ombro  (arraste)|\n",
    "|03|\tAvaria na banda de rodagem|\n",
    "|04|\tAvaria no flanco (lateral) - Retirar|\n",
    "|05|\tAvaria no flanco (lateral) - Observar|\n",
    "|06|\tBaixa pressão|\n",
    "|07|\tBarra de direção empenada|\n",
    "|08|\tCarcaça fadigada por dano|\n",
    "|09|\tCarcaça fadigada por tempo de uso|\n",
    "|10|\tCarcaça para exame ou venda|\n",
    "|11|\tContaminação (química / óleo)|\n",
    "|12|\tDano no talão - Flexionamento|\n",
    "|13|\tDano no talão-Montagem/Desmontagem|\n",
    "|14|\tDano no talão - Temperatura|\n",
    "|15|\tDesgaste irregular|\n",
    "|16|\tExcesso de oxidação|\n",
    "|17|\tExcesso de utilização|\n",
    "|18|\tFalha mecânica/operacional|\n",
    "|19|\tFalha na reforma|\n",
    "|20|\tFalha no conserto de borracharia|\n",
    "|21|\tFalha no conserto vulcanizado|\n",
    "|22|\tFalta de prisioneiro de roda|\n",
    "|23|\tFlange de roda empenada|\n",
    "|24|\tFlange de roda inadequada|\n",
    "|25|\tFlexionamento excessivo|\n",
    "|26|\tInfiltração no liner|\n",
    "|27|\tNúcleo defeituoso|\n",
    "|28|\tPeça do veículo roçando no pneu|\n",
    "|29|\tRoda trincada|\n",
    "|30|\tRodas em duplo desalinhada|\n",
    "|31|\tRodou vazio|\n",
    "|32|\tRuptura por impacto|\n",
    "|33|\tSeparação da banda de rodagem|\n",
    "|34|\tSeparação das cintas da banda|\n",
    "|35|\tSeparação do flanco (lateral)|\n",
    "|36|\tSeparação entre lonas (diagonal)|\n",
    "|37|\tSeparação no ombro (diagonal)|\n",
    "|38|\tSeparação por perfuração|\n",
    "|39|\tTravamento de freios|\n",
    "|40|\tTrinca circunferêncial acima do talão|\n",
    "|41|\tTrincas radiais internas|\n",
    "|42|\tVálvula danificada|\n",
    "|43|\tVálvula sem extensão|\n",
    "|44|\tVálvula sem tampa|\n",
    "|45|\tVálvula fora de posição|\n",
    "|46|\tVálvula de Difícil acesso|\n",
    "|47|\tRoçamento lateral|\n",
    "|48|\tFalta porca de roda|\n",
    "|49|\tDuplo mal combinado|\n",
    "|50|\tRodas diferentes|"
   ]
  },
  {
   "cell_type": "markdown",
   "id": "57e76cd7-ace4-4c93-b225-c8c1f553e461",
   "metadata": {
    "jp-MarkdownHeadingCollapsed": true,
    "tags": []
   },
   "source": [
    "### Carga dos dados"
   ]
  },
  {
   "cell_type": "code",
   "execution_count": 2,
   "id": "8ee159d4-8a55-44c2-8ba8-493bd2d85d8b",
   "metadata": {},
   "outputs": [
    {
     "data": {
      "text/html": [
       "<div>\n",
       "<style scoped>\n",
       "    .dataframe tbody tr th:only-of-type {\n",
       "        vertical-align: middle;\n",
       "    }\n",
       "\n",
       "    .dataframe tbody tr th {\n",
       "        vertical-align: top;\n",
       "    }\n",
       "\n",
       "    .dataframe thead th {\n",
       "        text-align: right;\n",
       "    }\n",
       "</style>\n",
       "<table border=\"1\" class=\"dataframe\">\n",
       "  <thead>\n",
       "    <tr style=\"text-align: right;\">\n",
       "      <th></th>\n",
       "      <th>No FOGO</th>\n",
       "      <th>MEDIDA</th>\n",
       "      <th>FABRICANTE</th>\n",
       "      <th>MODELO</th>\n",
       "      <th>DOT</th>\n",
       "      <th>SULCO</th>\n",
       "      <th>SIST.REF</th>\n",
       "      <th>TIPO</th>\n",
       "      <th>VIDA</th>\n",
       "      <th>ANOMALIA</th>\n",
       "      <th>ANOMALIA.1</th>\n",
       "      <th>ANOMALIA.2</th>\n",
       "    </tr>\n",
       "  </thead>\n",
       "  <tbody>\n",
       "    <tr>\n",
       "      <th>0</th>\n",
       "      <td>1298</td>\n",
       "      <td>295/80R22.5</td>\n",
       "      <td>Mic</td>\n",
       "      <td>Xze 2+</td>\n",
       "      <td>11</td>\n",
       "      <td>2,0</td>\n",
       "      <td>1</td>\n",
       "      <td>T</td>\n",
       "      <td>1</td>\n",
       "      <td>34</td>\n",
       "      <td>NaN</td>\n",
       "      <td>NaN</td>\n",
       "    </tr>\n",
       "    <tr>\n",
       "      <th>1</th>\n",
       "      <td>2334</td>\n",
       "      <td>295/80R22.5</td>\n",
       "      <td>Mic</td>\n",
       "      <td>Xze2+</td>\n",
       "      <td>11</td>\n",
       "      <td>9,0</td>\n",
       "      <td>1</td>\n",
       "      <td>L</td>\n",
       "      <td>2</td>\n",
       "      <td>32</td>\n",
       "      <td>34</td>\n",
       "      <td>NaN</td>\n",
       "    </tr>\n",
       "    <tr>\n",
       "      <th>2</th>\n",
       "      <td>6187</td>\n",
       "      <td>275/80R22.5</td>\n",
       "      <td>Goo</td>\n",
       "      <td>G667</td>\n",
       "      <td>11</td>\n",
       "      <td>16,0</td>\n",
       "      <td>1</td>\n",
       "      <td>L</td>\n",
       "      <td>1</td>\n",
       "      <td>14</td>\n",
       "      <td>NaN</td>\n",
       "      <td>NaN</td>\n",
       "    </tr>\n",
       "    <tr>\n",
       "      <th>3</th>\n",
       "      <td>6426</td>\n",
       "      <td>295/80R22.5</td>\n",
       "      <td>Pir</td>\n",
       "      <td>Fh75</td>\n",
       "      <td>07</td>\n",
       "      <td>7,0</td>\n",
       "      <td>1</td>\n",
       "      <td>L</td>\n",
       "      <td>2</td>\n",
       "      <td>2</td>\n",
       "      <td>NaN</td>\n",
       "      <td>NaN</td>\n",
       "    </tr>\n",
       "    <tr>\n",
       "      <th>4</th>\n",
       "      <td>7614</td>\n",
       "      <td>295/80R22.5</td>\n",
       "      <td>Mic</td>\n",
       "      <td>Xze2+</td>\n",
       "      <td>08</td>\n",
       "      <td>4,0</td>\n",
       "      <td>1</td>\n",
       "      <td>T</td>\n",
       "      <td>1</td>\n",
       "      <td>32</td>\n",
       "      <td>34</td>\n",
       "      <td>NaN</td>\n",
       "    </tr>\n",
       "  </tbody>\n",
       "</table>\n",
       "</div>"
      ],
      "text/plain": [
       "  No FOGO       MEDIDA FABRICANTE  MODELO DOT SULCO SIST.REF TIPO VIDA  \\\n",
       "0    1298  295/80R22.5        Mic  Xze 2+  11   2,0        1    T    1   \n",
       "1    2334  295/80R22.5        Mic   Xze2+  11   9,0        1    L    2   \n",
       "2    6187  275/80R22.5        Goo    G667  11  16,0        1    L    1   \n",
       "3    6426  295/80R22.5        Pir    Fh75  07   7,0        1    L    2   \n",
       "4    7614  295/80R22.5        Mic   Xze2+  08   4,0        1    T    1   \n",
       "\n",
       "   ANOMALIA ANOMALIA.1 ANOMALIA.2  \n",
       "0        34        NaN        NaN  \n",
       "1        32         34        NaN  \n",
       "2        14        NaN        NaN  \n",
       "3         2        NaN        NaN  \n",
       "4        32         34        NaN  "
      ]
     },
     "execution_count": 2,
     "metadata": {},
     "output_type": "execute_result"
    }
   ],
   "source": [
    "df = pd.read_csv('Sucata_2017.csv', sep=';', decimal=',')\n",
    "df.head()"
   ]
  },
  {
   "cell_type": "code",
   "execution_count": 3,
   "id": "fa532da5-afbe-4515-b73d-e7af4fae2927",
   "metadata": {},
   "outputs": [
    {
     "name": "stdout",
     "output_type": "stream",
     "text": [
      "<class 'pandas.core.frame.DataFrame'>\n",
      "RangeIndex: 890 entries, 0 to 889\n",
      "Data columns (total 12 columns):\n",
      " #   Column      Non-Null Count  Dtype \n",
      "---  ------      --------------  ----- \n",
      " 0   No FOGO     890 non-null    object\n",
      " 1   MEDIDA      890 non-null    object\n",
      " 2   FABRICANTE  890 non-null    object\n",
      " 3   MODELO      890 non-null    object\n",
      " 4   DOT         890 non-null    object\n",
      " 5   SULCO       889 non-null    object\n",
      " 6   SIST.REF    789 non-null    object\n",
      " 7   TIPO        890 non-null    object\n",
      " 8   VIDA        890 non-null    object\n",
      " 9   ANOMALIA    890 non-null    int64 \n",
      " 10  ANOMALIA.1  321 non-null    object\n",
      " 11  ANOMALIA.2  64 non-null     object\n",
      "dtypes: int64(1), object(11)\n",
      "memory usage: 83.6+ KB\n"
     ]
    }
   ],
   "source": [
    "df.info()"
   ]
  },
  {
   "cell_type": "markdown",
   "id": "69a25e85-7b81-4cb6-8153-1b63d9631e62",
   "metadata": {
    "jp-MarkdownHeadingCollapsed": true,
    "tags": []
   },
   "source": [
    "### Verificação dos domínios dos atributos"
   ]
  },
  {
   "cell_type": "code",
   "execution_count": 4,
   "id": "03c89a8c-ce29-4f0e-9e7a-3d9961f1e90e",
   "metadata": {},
   "outputs": [
    {
     "data": {
      "text/plain": [
       "295/80R22.5    879\n",
       "275/80R22.5     10\n",
       "385/65R22.5      1\n",
       "Name: MEDIDA, dtype: int64"
      ]
     },
     "execution_count": 4,
     "metadata": {},
     "output_type": "execute_result"
    }
   ],
   "source": [
    "# Distribuição das medidas\n",
    "df['MEDIDA'].value_counts()"
   ]
  },
  {
   "cell_type": "code",
   "execution_count": 5,
   "id": "b88f2148-a781-47cd-89f3-953ca50c9f14",
   "metadata": {},
   "outputs": [
    {
     "data": {
      "text/plain": [
       "Pir    542\n",
       "Mic    219\n",
       "Bri     68\n",
       "Goo     27\n",
       "Con     17\n",
       "O       12\n",
       "Fir      4\n",
       "Fat      1\n",
       "Name: FABRICANTE, dtype: int64"
      ]
     },
     "execution_count": 5,
     "metadata": {},
     "output_type": "execute_result"
    }
   ],
   "source": [
    "# Distribuição dos fabricantes\n",
    "df['FABRICANTE'].value_counts()"
   ]
  },
  {
   "cell_type": "code",
   "execution_count": 6,
   "id": "04ad78cc-d87c-4670-b3c0-66577edcb0f8",
   "metadata": {},
   "outputs": [
    {
     "data": {
      "text/plain": [
       "Fg85      214\n",
       "Fg01      117\n",
       "Fr85      110\n",
       "Xze2+      73\n",
       "Fr01       39\n",
       "         ... \n",
       "Sr200       1\n",
       "Xde2+       1\n",
       "F85         1\n",
       "UR288       1\n",
       "Xmz         1\n",
       "Name: MODELO, Length: 62, dtype: int64"
      ]
     },
     "execution_count": 6,
     "metadata": {},
     "output_type": "execute_result"
    }
   ],
   "source": [
    "# Distribuição dos modelos\n",
    "df['MODELO'].value_counts()"
   ]
  },
  {
   "cell_type": "code",
   "execution_count": 7,
   "id": "58b60d8b-57a6-48ed-aa96-0197103d4f84",
   "metadata": {},
   "outputs": [
    {
     "data": {
      "text/plain": [
       "13        399\n",
       "14        163\n",
       "12         64\n",
       "11         63\n",
       "15         62\n",
       "16         37\n",
       "10         25\n",
       "09          8\n",
       "08          6\n",
       "07          4\n",
       "?           4\n",
       "27          2\n",
       "1113        2\n",
       "'0913       2\n",
       ". 08        2\n",
       "'0313       2\n",
       "45          2\n",
       "01          2\n",
       "39          1\n",
       ". 05        1\n",
       ". 0316      1\n",
       ". 0313      1\n",
       "1414        1\n",
       "1013        1\n",
       "1713        1\n",
       ". 09        1\n",
       "4016        1\n",
       "17          1\n",
       ". 0913      1\n",
       "41          1\n",
       "34          1\n",
       "24          1\n",
       "42          1\n",
       "47          1\n",
       "44          1\n",
       ". 0513      1\n",
       "'0113       1\n",
       "1913        1\n",
       "3915        1\n",
       "03          1\n",
       "125         1\n",
       "04          1\n",
       "p9          1\n",
       "1314        1\n",
       "06          1\n",
       "2312        1\n",
       "'0816       1\n",
       "1415        1\n",
       "2313        1\n",
       "3616        1\n",
       "1313        1\n",
       "'0814       1\n",
       "1010        1\n",
       "3913        1\n",
       "4111        1\n",
       "1213        1\n",
       "2014        1\n",
       "1613        1\n",
       "31          1\n",
       "Name: DOT, dtype: int64"
      ]
     },
     "execution_count": 7,
     "metadata": {},
     "output_type": "execute_result"
    }
   ],
   "source": [
    "# Distribuição das datas de fabricação dos pneus\n",
    "df['DOT'].value_counts()"
   ]
  },
  {
   "cell_type": "code",
   "execution_count": 8,
   "id": "f5640acb-8115-41f5-847e-bb2cbd76d780",
   "metadata": {},
   "outputs": [
    {
     "data": {
      "text/plain": [
       "10,0    101\n",
       "7,0      87\n",
       "9,0      82\n",
       "8,0      81\n",
       "5,0      65\n",
       "6,0      63\n",
       "11,0     57\n",
       "4,0      56\n",
       "3,0      50\n",
       "1,0      42\n",
       "12,0     40\n",
       "2,0      34\n",
       "R        32\n",
       "13,0     12\n",
       "16       10\n",
       "14,0      7\n",
       "9         7\n",
       "13        6\n",
       "16,0      5\n",
       "11        5\n",
       "15,0      5\n",
       "7         4\n",
       "1         4\n",
       "14        4\n",
       "2         3\n",
       "12        3\n",
       "6         3\n",
       "3         3\n",
       "18,0      3\n",
       "4         3\n",
       "8         3\n",
       "5         2\n",
       "15        2\n",
       "17,0      2\n",
       "19,0      1\n",
       "32,0      1\n",
       "10        1\n",
       "Name: SULCO, dtype: int64"
      ]
     },
     "execution_count": 8,
     "metadata": {},
     "output_type": "execute_result"
    }
   ],
   "source": [
    "# Distribuição das medidas de sulcos\n",
    "df['SULCO'].value_counts()"
   ]
  },
  {
   "cell_type": "code",
   "execution_count": 9,
   "id": "e79cc244-6beb-4a03-ae45-8c40fdeca275",
   "metadata": {},
   "outputs": [
    {
     "data": {
      "text/plain": [
       "1     713\n",
       "2      52\n",
       "8       6\n",
       "9       5\n",
       "6       3\n",
       "10      3\n",
       "12      3\n",
       "4       2\n",
       "Nv      1\n",
       "3       1\n",
       "Name: SIST.REF, dtype: int64"
      ]
     },
     "execution_count": 9,
     "metadata": {},
     "output_type": "execute_result"
    }
   ],
   "source": [
    "# Distribuição do sistema de reforma\n",
    "df['SIST.REF'].value_counts()"
   ]
  },
  {
   "cell_type": "code",
   "execution_count": 10,
   "id": "a0c39abc-c4b7-44ca-b95b-59aef6b566fb",
   "metadata": {},
   "outputs": [
    {
     "data": {
      "text/plain": [
       "L     588\n",
       "T     196\n",
       "M      86\n",
       " M      6\n",
       " T      6\n",
       "T       3\n",
       "M       2\n",
       "N       1\n",
       "1       1\n",
       " L      1\n",
       "Name: TIPO, dtype: int64"
      ]
     },
     "execution_count": 10,
     "metadata": {},
     "output_type": "execute_result"
    }
   ],
   "source": [
    "# Distribuição do tipo\n",
    "df['TIPO'].value_counts()"
   ]
  },
  {
   "cell_type": "code",
   "execution_count": 11,
   "id": "f52c2584-a827-4250-aeac-25c012a3d39a",
   "metadata": {},
   "outputs": [
    {
     "data": {
      "text/plain": [
       "1     504\n",
       "2     214\n",
       "NV    117\n",
       "3      48\n",
       "4       4\n",
       "Nv      2\n",
       "8       1\n",
       "Name: VIDA, dtype: int64"
      ]
     },
     "execution_count": 11,
     "metadata": {},
     "output_type": "execute_result"
    }
   ],
   "source": [
    "# Distribuição da quantidade de reformas\n",
    "df['VIDA'].value_counts()"
   ]
  },
  {
   "cell_type": "code",
   "execution_count": 12,
   "id": "55e4cf3c-380d-4788-b76d-2cf0c498d28f",
   "metadata": {},
   "outputs": [
    {
     "data": {
      "text/plain": [
       "34    234\n",
       "12    121\n",
       "32    113\n",
       "40     70\n",
       "8      54\n",
       "14     43\n",
       "2      43\n",
       "41     41\n",
       "5      39\n",
       "25     21\n",
       "35     20\n",
       "38     19\n",
       "3      19\n",
       "26     13\n",
       "31     12\n",
       "18      6\n",
       "6       6\n",
       "17      6\n",
       "9       6\n",
       "20      3\n",
       "39      1\n",
       "Name: ANOMALIA, dtype: int64"
      ]
     },
     "execution_count": 12,
     "metadata": {},
     "output_type": "execute_result"
    }
   ],
   "source": [
    "df['ANOMALIA'].value_counts()"
   ]
  },
  {
   "cell_type": "markdown",
   "id": "a4d366df-cacd-4983-9007-d47cb1fe5c5f",
   "metadata": {},
   "source": [
    "**Considerações iniciais:** Todos atributos são categóricos. Alguns atributos apresentam problemas e precisam de tratamento:\n",
    "\n",
    "- **dados nulos** para os atributos `SULCO` e `SIST.REF`.  os atributos `ANOMALIA.1` e `ANOMALIA.2` são opcionais, para complementar o laudo do inspetor, por isso existem muitos dados nulos e não serão tratados.\n",
    "- **inconsistências:**\n",
    "    - valores do atributo `DOT` que serão usados para estimar o tempo de operação estão com **problemas de consistência**, alguns códigos apresentam a semana de fabricação, outros possuem dados que estão incoerentes com o sistema de codificação, por exemplo 125, p9, 34, 47, ...\n",
    "     - `SULCO` não está no formato decimal e apresenta ocorrências de um valor 'R' que deve ser substituído por 0, valor para situação de raspado\n",
    "     - Existem outras codificações para o atributo `SIST.REF` além do 1 e 2: requer análise do especialista de negócios para resolução do conflito\n",
    "     - O atributo `TIPO` contém valores fora do domínio, além disso, estão com espaços no texto que precisam ser removidos\n",
    "     - Ocorrências 'NV' e 'Nv' para a variável `VIDA` será substituída por ZERO, pois representa nenhuma reforma"
   ]
  },
  {
   "cell_type": "markdown",
   "id": "00f15aed-3215-4b7f-8971-b4e8cd5a427b",
   "metadata": {
    "tags": []
   },
   "source": [
    "## Pré processamento"
   ]
  },
  {
   "cell_type": "markdown",
   "id": "133487de-d169-4993-89d2-e19db37157c1",
   "metadata": {
    "jp-MarkdownHeadingCollapsed": true,
    "tags": []
   },
   "source": [
    "### Tratamento da incompletude\n",
    "O primeiro passo é verificar se a base necessita de algum procedimento de limpeza de dados. No caso da base `Sucata_2017.csv`, há valores ausentes para `SIST.REF` e `SULCO` afetando 100 objetos diferentes.\n",
    "\n",
    "No Pandas temos os métodos{'backfill', 'bfill', 'pad', 'ffill', None}:\n",
    "- ffill: propiciar última observação válida para o próximo preenchimento\n",
    "- bfill: utiliza a próxima observação válida para preencher a lacuna"
   ]
  },
  {
   "cell_type": "code",
   "execution_count": 13,
   "id": "5dd78839-f502-4897-a339-8f16f353018e",
   "metadata": {},
   "outputs": [],
   "source": [
    "# Imputação do SIST.REF, utilizando a observação anterior para preenchimento\n",
    "df['SIST.REF'].fillna(method='ffill', inplace=True)"
   ]
  },
  {
   "cell_type": "code",
   "execution_count": 14,
   "id": "867917a0-6d55-4752-89f0-ab8fbe50e6fb",
   "metadata": {},
   "outputs": [],
   "source": [
    "# Imputação do SULCO, utilizando a observação posterior para preenchimento\n",
    "df['SULCO'].fillna(method='bfill', inplace=True)"
   ]
  },
  {
   "cell_type": "code",
   "execution_count": 15,
   "id": "60fffa80-d4c2-4090-9838-ab70fcb355a4",
   "metadata": {},
   "outputs": [
    {
     "name": "stdout",
     "output_type": "stream",
     "text": [
      "<class 'pandas.core.frame.DataFrame'>\n",
      "RangeIndex: 890 entries, 0 to 889\n",
      "Data columns (total 2 columns):\n",
      " #   Column    Non-Null Count  Dtype \n",
      "---  ------    --------------  ----- \n",
      " 0   SIST.REF  890 non-null    object\n",
      " 1   SULCO     890 non-null    object\n",
      "dtypes: object(2)\n",
      "memory usage: 14.0+ KB\n"
     ]
    }
   ],
   "source": [
    "# Verificação dos dados imputados\n",
    "df.loc[:, ['SIST.REF','SULCO']].info()"
   ]
  },
  {
   "cell_type": "markdown",
   "id": "26342bd2-f031-4228-9e18-db35d3a8cfe7",
   "metadata": {
    "tags": []
   },
   "source": [
    "### Tratamento de inconsistências\n",
    "Na área de mineração de dados, um dado inconsistente normalmente é aquele cujo valor está fora do domínio do atributo ou apresenta uma grande discrepância em relação aos outros dados."
   ]
  },
  {
   "cell_type": "markdown",
   "id": "c0f9c36a-f98f-4950-976a-9a8a174653e9",
   "metadata": {
    "jp-MarkdownHeadingCollapsed": true,
    "tags": []
   },
   "source": [
    "#### Função para tratamento do DOT\n",
    "\n",
    "Utilizaremos os 2 últimos dígitos como entrada, além disso, será verificado se o valor é maior que 17, nestas condiçoes, ou de exceção (por exemplo na tentativa de converter um caractere não numérico em inteiro) o dado será considerado NaN"
   ]
  },
  {
   "cell_type": "code",
   "execution_count": 16,
   "id": "20294497-1b76-43a4-89d5-667a81504938",
   "metadata": {},
   "outputs": [],
   "source": [
    "# Tratamendo dos DOTS\n",
    "def whatDOT(DOT):\n",
    "    temp = DOT[-2::]\n",
    "    try:\n",
    "        if (int(temp) > 17):\n",
    "            temp = np.nan\n",
    "    except:\n",
    "        temp = np.nan\n",
    "    finally:\n",
    "        return temp"
   ]
  },
  {
   "cell_type": "code",
   "execution_count": 17,
   "id": "9b55b212-99d1-4a03-a13d-e06af07bf467",
   "metadata": {
    "jupyter": {
     "source_hidden": true
    },
    "tags": []
   },
   "outputs": [
    {
     "data": {
      "text/plain": [
       "'na'"
      ]
     },
     "execution_count": 17,
     "metadata": {},
     "output_type": "execute_result"
    }
   ],
   "source": [
    "# Teste: obtendo os dois últimos caracteres do texto\n",
    "\"banana\"[-2::]"
   ]
  },
  {
   "cell_type": "code",
   "execution_count": 18,
   "id": "83268346-bd2e-43a5-bb28-4471dc8c1d8a",
   "metadata": {
    "jupyter": {
     "source_hidden": true
    },
    "tags": []
   },
   "outputs": [
    {
     "name": "stdout",
     "output_type": "stream",
     "text": [
      "Erro\n",
      "FIM\n"
     ]
    }
   ],
   "source": [
    "# Teste: Relembrando estrutura try/except\n",
    "try:\n",
    "    if ('A'/0):\n",
    "        print('A')\n",
    "    else:\n",
    "        print('B')\n",
    "except:\n",
    "    print('Erro')\n",
    "else:\n",
    "    print('sem erro')\n",
    "finally:\n",
    "    print('FIM')"
   ]
  },
  {
   "cell_type": "code",
   "execution_count": 19,
   "id": "85d20126-df00-431c-9443-4d5b17dfc70c",
   "metadata": {
    "jupyter": {
     "source_hidden": true
    },
    "tags": []
   },
   "outputs": [
    {
     "data": {
      "text/plain": [
       "0      11\n",
       "1      11\n",
       "2      11\n",
       "3      07\n",
       "4      08\n",
       "       ..\n",
       "885    14\n",
       "886    13\n",
       "887    15\n",
       "888    14\n",
       "889    11\n",
       "Name: DOT, Length: 890, dtype: object"
      ]
     },
     "execution_count": 19,
     "metadata": {},
     "output_type": "execute_result"
    }
   ],
   "source": [
    "# Teste: Função retornando valores DOT\n",
    "df['DOT'].apply(whatDOT)"
   ]
  },
  {
   "cell_type": "markdown",
   "id": "3d68fc0f-6366-49ae-812d-f9e469ea1ea0",
   "metadata": {
    "jp-MarkdownHeadingCollapsed": true,
    "tags": []
   },
   "source": [
    "#### DOT\n",
    "\n",
    "- apresentou inconsistências, como exemplo, foram encontrados os seguintes valores:  ?, 27, 1113, '0913, . 08, '0313, 45. como estamos trabalhando com registros de 2017 anos maiores que 17 estão fora do domínio, além disso, temos prováveis erros de digitação."
   ]
  },
  {
   "cell_type": "code",
   "execution_count": 20,
   "id": "0c4a2865-2a67-41a7-b93f-0e11da9e9a86",
   "metadata": {},
   "outputs": [
    {
     "data": {
      "text/plain": [
       "18"
      ]
     },
     "execution_count": 20,
     "metadata": {},
     "output_type": "execute_result"
    }
   ],
   "source": [
    "# Transformando as inconsistências de datas en NaN\n",
    "df['DOT'] = df['DOT'].apply(whatDOT)\n",
    "df['DOT'].isna().sum()"
   ]
  },
  {
   "cell_type": "code",
   "execution_count": 21,
   "id": "9bc9e6ad-91f4-4b4a-a4fd-c6991bcb9153",
   "metadata": {},
   "outputs": [
    {
     "data": {
      "text/plain": [
       "0"
      ]
     },
     "execution_count": 21,
     "metadata": {},
     "output_type": "execute_result"
    }
   ],
   "source": [
    "# Preenchendo os valores NaN obtendo a última observação válida para o próximo enchimento\n",
    "df['DOT'].fillna(method='ffill', inplace=True)\n",
    "df['DOT'].isna().sum()"
   ]
  },
  {
   "cell_type": "markdown",
   "id": "0e180419-8268-4938-9cfa-80f70f89beaf",
   "metadata": {
    "jp-MarkdownHeadingCollapsed": true,
    "tags": []
   },
   "source": [
    "#### SULCO\n",
    "\n",
    "- formatação do decimal, substituindo vírgula por ponto\n",
    "- substituição de 'R' por zero (não há sulco quando o pneu está raspado)\n",
    "- existem sulcos com valores acima de 23,5 mm => vamos tratar como erro de digitação e assim aplicar o valor médiano\n",
    "\n",
    "Os pneus de caminhão têm uma profundidade de sulcos entre 10 e 20 mm quando são novos. Esse valor é dependente da função do pneu — para viagens de longa distância, fora de estrada, vias urbanas, e assim por diante.\n",
    "\n",
    "Um pneu fora de estrada pode chegar a ter 23,5 mm de profundidade do sulco, para oferecer maior resistência e diminuir os danos à borracha. Enquanto isso, os pneus que percorrem distâncias maiores em eixos direcionais ou livres, têm, em média, 14 mm de profundidade. "
   ]
  },
  {
   "cell_type": "code",
   "execution_count": 22,
   "id": "ca00af57-1c82-4915-9d26-9ab189f5ccd5",
   "metadata": {},
   "outputs": [],
   "source": [
    "# O SULCO parace que foi importado de maneira incorreta - decimal não foi considerado\n",
    "df['SULCO'] = df['SULCO'].str.replace(',0','')\n",
    "# ALém disso, quando está sem sulco os inspetores registraram como \"R\"\n",
    "df['SULCO'] = df['SULCO'].str.replace('R','0')"
   ]
  },
  {
   "cell_type": "code",
   "execution_count": 23,
   "id": "f4ffa763-ed63-4ed2-ac2c-6bf88bc059cc",
   "metadata": {},
   "outputs": [
    {
     "data": {
      "text/plain": [
       "7.0"
      ]
     },
     "execution_count": 23,
     "metadata": {},
     "output_type": "execute_result"
    }
   ],
   "source": [
    "df['SULCO'].median()"
   ]
  },
  {
   "cell_type": "code",
   "execution_count": 24,
   "id": "7920be7e-f362-4240-9f37-ca2febfc03b6",
   "metadata": {},
   "outputs": [],
   "source": [
    "filtro = df[(pd.to_numeric(df['SULCO'])>20)].index"
   ]
  },
  {
   "cell_type": "code",
   "execution_count": 25,
   "id": "1ff6a2d7-26fc-4146-80c5-8ec451a85632",
   "metadata": {},
   "outputs": [
    {
     "data": {
      "text/html": [
       "<div>\n",
       "<style scoped>\n",
       "    .dataframe tbody tr th:only-of-type {\n",
       "        vertical-align: middle;\n",
       "    }\n",
       "\n",
       "    .dataframe tbody tr th {\n",
       "        vertical-align: top;\n",
       "    }\n",
       "\n",
       "    .dataframe thead th {\n",
       "        text-align: right;\n",
       "    }\n",
       "</style>\n",
       "<table border=\"1\" class=\"dataframe\">\n",
       "  <thead>\n",
       "    <tr style=\"text-align: right;\">\n",
       "      <th></th>\n",
       "      <th>No FOGO</th>\n",
       "      <th>MEDIDA</th>\n",
       "      <th>FABRICANTE</th>\n",
       "      <th>MODELO</th>\n",
       "      <th>DOT</th>\n",
       "      <th>SULCO</th>\n",
       "      <th>SIST.REF</th>\n",
       "      <th>TIPO</th>\n",
       "      <th>VIDA</th>\n",
       "      <th>ANOMALIA</th>\n",
       "      <th>ANOMALIA.1</th>\n",
       "      <th>ANOMALIA.2</th>\n",
       "    </tr>\n",
       "  </thead>\n",
       "  <tbody>\n",
       "    <tr>\n",
       "      <th>294</th>\n",
       "      <td>16882</td>\n",
       "      <td>295/80R22.5</td>\n",
       "      <td>Pir</td>\n",
       "      <td>Fg85</td>\n",
       "      <td>13</td>\n",
       "      <td>32</td>\n",
       "      <td>1</td>\n",
       "      <td>L</td>\n",
       "      <td>1</td>\n",
       "      <td>12</td>\n",
       "      <td>NaN</td>\n",
       "      <td>NaN</td>\n",
       "    </tr>\n",
       "  </tbody>\n",
       "</table>\n",
       "</div>"
      ],
      "text/plain": [
       "    No FOGO       MEDIDA FABRICANTE MODELO DOT SULCO SIST.REF TIPO VIDA  \\\n",
       "294   16882  295/80R22.5        Pir   Fg85  13    32        1    L    1   \n",
       "\n",
       "     ANOMALIA ANOMALIA.1 ANOMALIA.2  \n",
       "294        12        NaN        NaN  "
      ]
     },
     "execution_count": 25,
     "metadata": {},
     "output_type": "execute_result"
    }
   ],
   "source": [
    "df.iloc[filtro]"
   ]
  },
  {
   "cell_type": "code",
   "execution_count": 26,
   "id": "6ad45eb5-f97a-4060-87ee-25939bdc4ff4",
   "metadata": {},
   "outputs": [],
   "source": [
    "# Aplicando o valor mediano ao item inconsistente\n",
    "df.iloc[filtro, 5] = '7'"
   ]
  },
  {
   "cell_type": "markdown",
   "id": "2536693c-542d-42d7-be80-7dccefa7b8d6",
   "metadata": {
    "jp-MarkdownHeadingCollapsed": true,
    "tags": []
   },
   "source": [
    "#### SIST.REF\n",
    "\n",
    "- Existem valores fora do domínio [1, 3], dessa maneira os valores serão convertidos para um desses"
   ]
  },
  {
   "cell_type": "code",
   "execution_count": 27,
   "id": "fee7b8f2-efef-466c-b20b-7da65e522907",
   "metadata": {},
   "outputs": [],
   "source": [
    "# Criando um filtro tudo que não seja 1 e 2\n",
    "filtro = df[~(df['SIST.REF'].isin(['1', '2']))].index"
   ]
  },
  {
   "cell_type": "code",
   "execution_count": 28,
   "id": "7ef82e18-fead-4297-934c-c2c17f62d474",
   "metadata": {},
   "outputs": [
    {
     "data": {
      "text/plain": [
       "Int64Index([725, 847, 848, 849, 850, 851, 852, 853, 854, 855, 856, 857, 858,\n",
       "            859, 860, 861, 862, 863, 864, 865, 866, 867, 868, 869],\n",
       "           dtype='int64')"
      ]
     },
     "execution_count": 28,
     "metadata": {},
     "output_type": "execute_result"
    }
   ],
   "source": [
    "filtro"
   ]
  },
  {
   "cell_type": "code",
   "execution_count": 29,
   "id": "97e8045f-6ad4-415f-a9ed-419d863d81af",
   "metadata": {},
   "outputs": [],
   "source": [
    "# Vamos substituir o que não for 1 e 2 por 3\n",
    "df.iloc[filtro, 6] = '3'"
   ]
  },
  {
   "cell_type": "code",
   "execution_count": 30,
   "id": "68b1cdcf-25da-4ab3-9797-7917d6c5f4d1",
   "metadata": {},
   "outputs": [
    {
     "data": {
      "text/plain": [
       "1    809\n",
       "2     57\n",
       "3     24\n",
       "Name: SIST.REF, dtype: int64"
      ]
     },
     "execution_count": 30,
     "metadata": {},
     "output_type": "execute_result"
    }
   ],
   "source": [
    "# Verificando o domínio do campo\n",
    "df['SIST.REF'].value_counts()"
   ]
  },
  {
   "cell_type": "markdown",
   "id": "57ad9461-c8ed-4533-b1c2-6916e540a985",
   "metadata": {
    "jp-MarkdownHeadingCollapsed": true,
    "tags": []
   },
   "source": [
    "#### TIPO\n",
    "\n",
    "- Remoção de espaços excedentes\n",
    "- Arrumar dados fora de domínio => tratar como ausentes"
   ]
  },
  {
   "cell_type": "code",
   "execution_count": 31,
   "id": "8f3d9eac-15bf-4c9e-8139-0830e8e3a476",
   "metadata": {},
   "outputs": [],
   "source": [
    "# Remoção de espaços excedentes\n",
    "df['TIPO'] = df['TIPO'].str.strip()"
   ]
  },
  {
   "cell_type": "code",
   "execution_count": 32,
   "id": "e84fa684-873b-40ae-b35f-215571cbaefa",
   "metadata": {},
   "outputs": [
    {
     "data": {
      "text/plain": [
       "L    589\n",
       "T    205\n",
       "M     94\n",
       "N      1\n",
       "1      1\n",
       "Name: TIPO, dtype: int64"
      ]
     },
     "execution_count": 32,
     "metadata": {},
     "output_type": "execute_result"
    }
   ],
   "source": [
    "df['TIPO'].value_counts()"
   ]
  },
  {
   "cell_type": "code",
   "execution_count": 33,
   "id": "810b0476-a745-4a71-8af7-c46e721c3bd2",
   "metadata": {},
   "outputs": [],
   "source": [
    "filtro = df[df['TIPO'].isin(['N','1'])].index"
   ]
  },
  {
   "cell_type": "code",
   "execution_count": 34,
   "id": "968df216-afac-4122-93fb-db1367a23f31",
   "metadata": {},
   "outputs": [],
   "source": [
    "# Transformando dados fora de domínio em ausentes\n",
    "df.iloc[filtro, 7] = np.nan"
   ]
  },
  {
   "cell_type": "code",
   "execution_count": 35,
   "id": "33ff4933-4239-4913-b1f0-508d77695338",
   "metadata": {},
   "outputs": [],
   "source": [
    "# Tratando ausentes com método\n",
    "df['TIPO'].fillna(method='bfill', inplace= True)"
   ]
  },
  {
   "cell_type": "code",
   "execution_count": 36,
   "id": "461a2708-4c2b-4039-a601-dc2e98e96d27",
   "metadata": {},
   "outputs": [
    {
     "data": {
      "text/plain": [
       "461    T\n",
       "529    T\n",
       "Name: TIPO, dtype: object"
      ]
     },
     "execution_count": 36,
     "metadata": {},
     "output_type": "execute_result"
    }
   ],
   "source": [
    "# Verificando inputação\n",
    "df.iloc[filtro, 7]"
   ]
  },
  {
   "cell_type": "markdown",
   "id": "f5ca37be-8580-4642-b63d-ee620ce6d5e7",
   "metadata": {
    "jp-MarkdownHeadingCollapsed": true,
    "tags": []
   },
   "source": [
    "#### VIDA\n",
    "\n",
    "- Nv ou NV receberão o valor de 0 para representar nenhuma reforma"
   ]
  },
  {
   "cell_type": "code",
   "execution_count": 37,
   "id": "276548c2-8a5c-4154-99e2-1d1db5104c6a",
   "metadata": {},
   "outputs": [],
   "source": [
    "# Obtendo os índices dos valores inconsistentes\n",
    "filtro = df[df['VIDA'].isin(['NV', 'Nv'])].index"
   ]
  },
  {
   "cell_type": "code",
   "execution_count": 38,
   "id": "15b9b431-d1ef-4e2f-92bd-0606dc66a273",
   "metadata": {},
   "outputs": [],
   "source": [
    "# Substituindo valores NV e Nv por '0'\n",
    "df.iloc[filtro, 8] = '0'"
   ]
  },
  {
   "cell_type": "code",
   "execution_count": 39,
   "id": "c6475665-2ab8-4998-9514-7f6c55be3900",
   "metadata": {},
   "outputs": [
    {
     "data": {
      "text/html": [
       "<div>\n",
       "<style scoped>\n",
       "    .dataframe tbody tr th:only-of-type {\n",
       "        vertical-align: middle;\n",
       "    }\n",
       "\n",
       "    .dataframe tbody tr th {\n",
       "        vertical-align: top;\n",
       "    }\n",
       "\n",
       "    .dataframe thead th {\n",
       "        text-align: right;\n",
       "    }\n",
       "</style>\n",
       "<table border=\"1\" class=\"dataframe\">\n",
       "  <thead>\n",
       "    <tr style=\"text-align: right;\">\n",
       "      <th></th>\n",
       "      <th>No FOGO</th>\n",
       "      <th>MEDIDA</th>\n",
       "      <th>FABRICANTE</th>\n",
       "      <th>MODELO</th>\n",
       "      <th>DOT</th>\n",
       "      <th>SULCO</th>\n",
       "      <th>SIST.REF</th>\n",
       "      <th>TIPO</th>\n",
       "      <th>VIDA</th>\n",
       "      <th>ANOMALIA</th>\n",
       "      <th>ANOMALIA.1</th>\n",
       "      <th>ANOMALIA.2</th>\n",
       "    </tr>\n",
       "  </thead>\n",
       "  <tbody>\n",
       "    <tr>\n",
       "      <th>62</th>\n",
       "      <td>14996</td>\n",
       "      <td>295/80R22.5</td>\n",
       "      <td>Mic</td>\n",
       "      <td>Xde2+</td>\n",
       "      <td>13</td>\n",
       "      <td>3</td>\n",
       "      <td>1</td>\n",
       "      <td>T</td>\n",
       "      <td>0</td>\n",
       "      <td>8</td>\n",
       "      <td>NaN</td>\n",
       "      <td>NaN</td>\n",
       "    </tr>\n",
       "    <tr>\n",
       "      <th>73</th>\n",
       "      <td>15246</td>\n",
       "      <td>295/80R22.5</td>\n",
       "      <td>Pir</td>\n",
       "      <td>Fg85</td>\n",
       "      <td>13</td>\n",
       "      <td>4</td>\n",
       "      <td>1</td>\n",
       "      <td>M</td>\n",
       "      <td>0</td>\n",
       "      <td>12</td>\n",
       "      <td>NaN</td>\n",
       "      <td>NaN</td>\n",
       "    </tr>\n",
       "    <tr>\n",
       "      <th>75</th>\n",
       "      <td>15259</td>\n",
       "      <td>295/80R22.5</td>\n",
       "      <td>Pir</td>\n",
       "      <td>Fg85</td>\n",
       "      <td>13</td>\n",
       "      <td>7</td>\n",
       "      <td>1</td>\n",
       "      <td>M</td>\n",
       "      <td>0</td>\n",
       "      <td>12</td>\n",
       "      <td>NaN</td>\n",
       "      <td>NaN</td>\n",
       "    </tr>\n",
       "    <tr>\n",
       "      <th>82</th>\n",
       "      <td>15524</td>\n",
       "      <td>295/80R22.5</td>\n",
       "      <td>Mic</td>\n",
       "      <td>Xze 2+</td>\n",
       "      <td>13</td>\n",
       "      <td>7</td>\n",
       "      <td>1</td>\n",
       "      <td>L</td>\n",
       "      <td>0</td>\n",
       "      <td>18</td>\n",
       "      <td>NaN</td>\n",
       "      <td>NaN</td>\n",
       "    </tr>\n",
       "    <tr>\n",
       "      <th>129</th>\n",
       "      <td>16900</td>\n",
       "      <td>295/80R22.5</td>\n",
       "      <td>Pir</td>\n",
       "      <td>Fg85</td>\n",
       "      <td>13</td>\n",
       "      <td>7</td>\n",
       "      <td>1</td>\n",
       "      <td>M</td>\n",
       "      <td>0</td>\n",
       "      <td>34</td>\n",
       "      <td>NaN</td>\n",
       "      <td>NaN</td>\n",
       "    </tr>\n",
       "    <tr>\n",
       "      <th>...</th>\n",
       "      <td>...</td>\n",
       "      <td>...</td>\n",
       "      <td>...</td>\n",
       "      <td>...</td>\n",
       "      <td>...</td>\n",
       "      <td>...</td>\n",
       "      <td>...</td>\n",
       "      <td>...</td>\n",
       "      <td>...</td>\n",
       "      <td>...</td>\n",
       "      <td>...</td>\n",
       "      <td>...</td>\n",
       "    </tr>\n",
       "    <tr>\n",
       "      <th>859</th>\n",
       "      <td>101247</td>\n",
       "      <td>295/80R22.5</td>\n",
       "      <td>Pir</td>\n",
       "      <td>Fh01</td>\n",
       "      <td>10</td>\n",
       "      <td>16</td>\n",
       "      <td>3</td>\n",
       "      <td>L</td>\n",
       "      <td>0</td>\n",
       "      <td>5</td>\n",
       "      <td>NaN</td>\n",
       "      <td>NaN</td>\n",
       "    </tr>\n",
       "    <tr>\n",
       "      <th>861</th>\n",
       "      <td>18296</td>\n",
       "      <td>295/80R22.5</td>\n",
       "      <td>Pir</td>\n",
       "      <td>Fg01</td>\n",
       "      <td>10</td>\n",
       "      <td>12</td>\n",
       "      <td>3</td>\n",
       "      <td>M</td>\n",
       "      <td>0</td>\n",
       "      <td>5</td>\n",
       "      <td>NaN</td>\n",
       "      <td>NaN</td>\n",
       "    </tr>\n",
       "    <tr>\n",
       "      <th>869</th>\n",
       "      <td>100357</td>\n",
       "      <td>295/80R22.5</td>\n",
       "      <td>Pir</td>\n",
       "      <td>Fg01</td>\n",
       "      <td>12</td>\n",
       "      <td>16</td>\n",
       "      <td>3</td>\n",
       "      <td>M</td>\n",
       "      <td>0</td>\n",
       "      <td>38</td>\n",
       "      <td>NaN</td>\n",
       "      <td>NaN</td>\n",
       "    </tr>\n",
       "    <tr>\n",
       "      <th>879</th>\n",
       "      <td>EBM49505</td>\n",
       "      <td>295/80R22.5</td>\n",
       "      <td>Pir</td>\n",
       "      <td>Fg01</td>\n",
       "      <td>16</td>\n",
       "      <td>9</td>\n",
       "      <td>1</td>\n",
       "      <td>L</td>\n",
       "      <td>0</td>\n",
       "      <td>34</td>\n",
       "      <td>NaN</td>\n",
       "      <td>NaN</td>\n",
       "    </tr>\n",
       "    <tr>\n",
       "      <th>885</th>\n",
       "      <td>KWU67282</td>\n",
       "      <td>295/80R22.5</td>\n",
       "      <td>Pir</td>\n",
       "      <td>Fg85</td>\n",
       "      <td>14</td>\n",
       "      <td>11</td>\n",
       "      <td>1</td>\n",
       "      <td>M</td>\n",
       "      <td>0</td>\n",
       "      <td>41</td>\n",
       "      <td>34</td>\n",
       "      <td>35</td>\n",
       "    </tr>\n",
       "  </tbody>\n",
       "</table>\n",
       "<p>119 rows × 12 columns</p>\n",
       "</div>"
      ],
      "text/plain": [
       "      No FOGO       MEDIDA FABRICANTE  MODELO DOT SULCO SIST.REF TIPO VIDA  \\\n",
       "62      14996  295/80R22.5        Mic   Xde2+  13     3        1    T    0   \n",
       "73      15246  295/80R22.5        Pir    Fg85  13     4        1    M    0   \n",
       "75      15259  295/80R22.5        Pir    Fg85  13     7        1    M    0   \n",
       "82      15524  295/80R22.5        Mic  Xze 2+  13     7        1    L    0   \n",
       "129     16900  295/80R22.5        Pir    Fg85  13     7        1    M    0   \n",
       "..        ...          ...        ...     ...  ..   ...      ...  ...  ...   \n",
       "859    101247  295/80R22.5        Pir    Fh01  10    16        3    L    0   \n",
       "861     18296  295/80R22.5        Pir    Fg01  10    12        3    M    0   \n",
       "869    100357  295/80R22.5        Pir    Fg01  12    16        3    M    0   \n",
       "879  EBM49505  295/80R22.5        Pir    Fg01  16     9        1    L    0   \n",
       "885  KWU67282  295/80R22.5        Pir    Fg85  14    11        1    M    0   \n",
       "\n",
       "     ANOMALIA ANOMALIA.1 ANOMALIA.2  \n",
       "62          8        NaN        NaN  \n",
       "73         12        NaN        NaN  \n",
       "75         12        NaN        NaN  \n",
       "82         18        NaN        NaN  \n",
       "129        34        NaN        NaN  \n",
       "..        ...        ...        ...  \n",
       "859         5        NaN        NaN  \n",
       "861         5        NaN        NaN  \n",
       "869        38        NaN        NaN  \n",
       "879        34        NaN        NaN  \n",
       "885        41         34         35  \n",
       "\n",
       "[119 rows x 12 columns]"
      ]
     },
     "execution_count": 39,
     "metadata": {},
     "output_type": "execute_result"
    }
   ],
   "source": [
    "# Verificando dados\n",
    "df.iloc[filtro]"
   ]
  },
  {
   "cell_type": "markdown",
   "id": "58799c14-47ba-4194-857d-8be930959e6b",
   "metadata": {
    "jp-MarkdownHeadingCollapsed": true,
    "tags": []
   },
   "source": [
    "### Transformação\n",
    "\n",
    "Para padronizar e deixar os dados em um formato passível de aplicação das diferentes técnicas de mineração."
   ]
  },
  {
   "cell_type": "code",
   "execution_count": 40,
   "id": "5060efaa-89c0-449e-95e9-83b3c0a95104",
   "metadata": {},
   "outputs": [],
   "source": [
    "# Transformação para o tipo de dado adequado\n",
    "df['SULCO'] = pd.to_numeric(df['SULCO'])"
   ]
  },
  {
   "cell_type": "code",
   "execution_count": 41,
   "id": "f443ebff-d4d1-408a-a1a7-4006e90e9455",
   "metadata": {},
   "outputs": [],
   "source": [
    "# Transformação para o tipo de dado adequado\n",
    "df['DOT'] = pd.to_numeric(df['DOT'])"
   ]
  },
  {
   "cell_type": "code",
   "execution_count": 42,
   "id": "a24f2865-0300-4a10-a472-1a110906db24",
   "metadata": {},
   "outputs": [],
   "source": [
    "# Cálculo do tempo de rodagem em anos\n",
    "df['ANOS'] = 17 - df['DOT']"
   ]
  },
  {
   "cell_type": "markdown",
   "id": "bcf6a690-1387-4b84-a04b-066789b057f8",
   "metadata": {},
   "source": [
    "## Análise Descritiva"
   ]
  },
  {
   "cell_type": "markdown",
   "id": "febc21f0-158f-419d-a246-4e3fa698ffe4",
   "metadata": {
    "jp-MarkdownHeadingCollapsed": true,
    "tags": []
   },
   "source": [
    "### Dados Numéricos"
   ]
  },
  {
   "cell_type": "code",
   "execution_count": 43,
   "id": "cf791535-eb04-4cfa-a1e2-a55fc0db00b6",
   "metadata": {
    "tags": []
   },
   "outputs": [],
   "source": [
    "# Criando uma função para plotar os gráficos\n",
    "def to_displot(x, x_label, title):\n",
    "    sns.set(rc={'figure.figsize':(15,8)})\n",
    "    sns.set(font_scale=1.1)\n",
    "    sns.displot(x=x, bins=10)\n",
    "    plt.axvline(x.mean(), color='blue', lw=1.5)\n",
    "    plt.axvline(x.median(), color='red', ls='--', lw=1)\n",
    "    plt.title(title)\n",
    "    plt.xlabel(x_label)\n",
    "    plt.ylabel('Frequência absoluta')\n",
    "    plt.grid(True)\n",
    "    plt.show()"
   ]
  },
  {
   "cell_type": "code",
   "execution_count": 45,
   "id": "ce523cc3-bd14-4dea-b71e-ef06ca6dcc94",
   "metadata": {},
   "outputs": [
    {
     "data": {
      "image/png": "[encoded data removed]",
      "text/plain": [
       "<Figure size 360x360 with 1 Axes>"
      ]
     },
     "metadata": {},
     "output_type": "display_data"
    }
   ],
   "source": [
    "#Distribuição dos SULCOS\n",
    "to_displot(df['SULCO'], 'Profundidade do sulco [mm]', f'Histograma - Sulco de {len(df)} pneus')"
   ]
  },
  {
   "cell_type": "code",
   "execution_count": 46,
   "id": "f2ac4a9c-59b4-462b-9e7d-bc3fffe6d11c",
   "metadata": {},
   "outputs": [
    {
     "data": {
      "image/png": "[encoded data removed]",
      "text/plain": [
       "<Figure size 360x360 with 1 Axes>"
      ]
     },
     "metadata": {},
     "output_type": "display_data"
    }
   ],
   "source": [
    "to_displot(df['DOT'], 'Ano de fabricação do pneu', f'Histograma - DOT de {len(df)} pneus')"
   ]
  },
  {
   "cell_type": "code",
   "execution_count": 47,
   "id": "6d87c967-e521-4388-9c02-f249d7ed8269",
   "metadata": {},
   "outputs": [
    {
     "data": {
      "image/png": "[encoded data removed]",
      "text/plain": [
       "<Figure size 360x360 with 1 Axes>"
      ]
     },
     "metadata": {},
     "output_type": "display_data"
    }
   ],
   "source": [
    "to_displot(df['ANOS'], 'Tempo de Vida [anos]', f'Histograma - Vida útil {len(df)} pneus')"
   ]
  },
  {
   "cell_type": "markdown",
   "id": "357d32f8-28ce-4332-8ca4-3cc4e5882a60",
   "metadata": {
    "tags": []
   },
   "source": [
    "### Dados Categóricos"
   ]
  },
  {
   "cell_type": "markdown",
   "id": "303c7fcf-ce11-42ce-9c1d-8161796ee6bd",
   "metadata": {
    "jp-MarkdownHeadingCollapsed": true,
    "tags": []
   },
   "source": [
    "#### 1-Quanto tempo roda um pneu antes de ser sucateado? Por sulco, por tipo, por vida, por anomalia"
   ]
  },
  {
   "cell_type": "code",
   "execution_count": 70,
   "id": "fc57a820-7904-4fae-aa32-5c144c54a2fe",
   "metadata": {},
   "outputs": [
    {
     "data": {
      "text/plain": [
       "<seaborn.axisgrid.FacetGrid at 0x11ecb745f10>"
      ]
     },
     "execution_count": 70,
     "metadata": {},
     "output_type": "execute_result"
    },
    {
     "data": {
      "image/png": "[encoded data removed]",
      "text/plain": [
       "<Figure size 806.4x1260 with 20 Axes>"
      ]
     },
     "metadata": {},
     "output_type": "display_data"
    }
   ],
   "source": [
    "#plt.figure(figsize=(8,10), dpi=150)\n",
    "sns.catplot(x='ANOS', data=df, col='SULCO', col_wrap=4, \n",
    "            height=3.5, kind=\"count\", ci=None, aspect=.8)"
   ]
  },
  {
   "cell_type": "code",
   "execution_count": 63,
   "id": "9929599b-1559-4243-91c4-3369523b96df",
   "metadata": {},
   "outputs": [
    {
     "data": {
      "image/png": "[encoded data removed]",
      "text/html": [
       "<div style=\"vertical-align: middle;\"><strong>Greens</strong> </div><div class=\"cmap\"><img alt=\"Greens colormap\" title=\"Greens\" style=\"border: 1px solid #555;\" src=\"data:image/png;base64,iVBORw0KGgoAAAANSUhEUgAAAgAAAABACAYAAABsv8+/AAAAFXRFWHRUaXRsZQBHcmVlbnMgY29sb3JtYXAlazwlAAAAG3RFWHREZXNjcmlwdGlvbgBHcmVlbnMgY29sb3JtYXBs/CTBAAAAMHRFWHRBdXRob3IATWF0cGxvdGxpYiB2My40LjMsIGh0dHBzOi8vbWF0cGxvdGxpYi5vcmcJXfPTAAAAMnRFWHRTb2Z0d2FyZQBNYXRwbG90bGliIHYzLjQuMywgaHR0cHM6Ly9tYXRwbG90bGliLm9yZyf7bPQAAAHlSURBVHic7dbLbtNAAEDRgf//XcQG2SygTjypcRwiWNxzNq0zD4+dVrpfvv/4to4xxrquY4wx1vHr54ftehu/jdyPb59f3Ge9++1/7PP43J9/fjT/6XkX18/n/mf3n66X7Xr54/zlYf175i+n510O9jt6nuW5593OOZ3r4Pzze5r3ed/+03Of7r+ff77/2F0/7Pfueb/H53WX523PfzZvf575va/T+qvj43T9e+7z9+f4fHx5+v7X5s3f36v7fMy7/P3N/++3P4Td+7rbYEwH3887XHcyfrTf7cFeXPfaOb8OACBHAABAkAAAgCABAABBAgAAggQAAAQJAAAIEgAAECQAACBIAABAkAAAgCABAABBAgAAggQAAAQJAAAIEgAAECQAACBIAABAkAAAgCABAABBAgAAggQAAAQJAAAIEgAAECQAACBIAABAkAAAgCABAABBAgAAggQAAAQJAAAIEgAAECQAACBIAABAkAAAgCABAABBAgAAggQAAAQJAAAIEgAAECQAACBIAABAkAAAgCABAABBAgAAggQAAAQJAAAIEgAAECQAACBIAABAkAAAgCABAABBAgAAggQAAAQJAAAIEgAAECQAACBIAABAkAAAgCABAABBAgAAggQAAAQJAAAI+gkQGk78tuE8FwAAAABJRU5ErkJggg==\"></div><div style=\"vertical-align: middle; max-width: 514px; display: flex; justify-content: space-between;\"><div style=\"float: left;\"><div title=\"#f7fcf5ff\" style=\"display: inline-block; width: 1em; height: 1em; margin: 0; vertical-align: middle; border: 1px solid #555; background-color: #f7fcf5ff;\"></div> under</div><div style=\"margin: 0 auto; display: inline-block;\">bad <div title=\"#00000000\" style=\"display: inline-block; width: 1em; height: 1em; margin: 0; vertical-align: middle; border: 1px solid #555; background-color: #00000000;\"></div></div><div style=\"float: right;\">over <div title=\"#00441bff\" style=\"display: inline-block; width: 1em; height: 1em; margin: 0; vertical-align: middle; border: 1px solid #555; background-color: #00441bff;\"></div></div>"
      ],
      "text/plain": [
       "<matplotlib.colors.LinearSegmentedColormap at 0x11ec59539a0>"
      ]
     },
     "execution_count": 63,
     "metadata": {},
     "output_type": "execute_result"
    }
   ],
   "source": [
    "plt.get_cmap('Greens')"
   ]
  },
  {
   "cell_type": "code",
   "execution_count": 71,
   "id": "72224ebf-c5ef-4fe5-b548-7c6ee943a4c8",
   "metadata": {},
   "outputs": [
    {
     "data": {
      "text/plain": [
       "<seaborn.axisgrid.FacetGrid at 0x11ecbbc7e80>"
      ]
     },
     "execution_count": 71,
     "metadata": {},
     "output_type": "execute_result"
    },
    {
     "data": {
      "image/png": "[encoded data removed]",
      "text/plain": [
       "<Figure size 806.4x252 with 3 Axes>"
      ]
     },
     "metadata": {},
     "output_type": "display_data"
    }
   ],
   "source": [
    "sns.catplot(x='ANOS', data=df, col='TIPO', col_wrap=4, \n",
    "            height=3.5, kind=\"count\", ci=None, aspect=.8)"
   ]
  },
  {
   "cell_type": "code",
   "execution_count": 72,
   "id": "302cc41c-2576-4acc-b6b6-91a42a5659a5",
   "metadata": {},
   "outputs": [
    {
     "data": {
      "text/plain": [
       "<seaborn.axisgrid.FacetGrid at 0x11ecbfd47c0>"
      ]
     },
     "execution_count": 72,
     "metadata": {},
     "output_type": "execute_result"
    },
    {
     "data": {
      "image/png": "[encoded data removed]",
      "text/plain": [
       "<Figure size 806.4x504 with 6 Axes>"
      ]
     },
     "metadata": {},
     "output_type": "display_data"
    }
   ],
   "source": [
    "sns.catplot(x='ANOS', data=df, col='VIDA', col_wrap=4, \n",
    "            height=3.5, kind=\"count\", ci=None, aspect=.8)"
   ]
  },
  {
   "cell_type": "code",
   "execution_count": 73,
   "id": "2f286880-ea8c-42d3-8047-06fccd3285f5",
   "metadata": {},
   "outputs": [
    {
     "data": {
      "text/plain": [
       "<seaborn.axisgrid.FacetGrid at 0x11ecc6add90>"
      ]
     },
     "execution_count": 73,
     "metadata": {},
     "output_type": "execute_result"
    },
    {
     "data": {
      "image/png": "[encoded data removed]",
      "text/plain": [
       "<Figure size 806.4x1512 with 21 Axes>"
      ]
     },
     "metadata": {},
     "output_type": "display_data"
    }
   ],
   "source": [
    "sns.catplot(x='ANOS', data=df, col='ANOMALIA', col_wrap=4, \n",
    "            height=3.5, kind=\"count\", ci=None, aspect=.8)"
   ]
  },
  {
   "cell_type": "markdown",
   "id": "ac9d3871-3684-4cbf-be54-8ea86fa9119a",
   "metadata": {},
   "source": [
    "#### 2-Qual marca de pneu é mais sucateada? Por medida, por modelo"
   ]
  },
  {
   "cell_type": "code",
   "execution_count": 76,
   "id": "97818f40-eb9a-4e8b-94a7-969aec16f297",
   "metadata": {},
   "outputs": [
    {
     "ename": "TypeError",
     "evalue": "Neither the `x` nor `y` variable appears to be numeric.",
     "output_type": "error",
     "traceback": [
      "\u001b[1;31m---------------------------------------------------------------------------\u001b[0m",
      "\u001b[1;31mTypeError\u001b[0m                                 Traceback (most recent call last)",
      "\u001b[1;32m~\\AppData\\Local\\Temp/ipykernel_3544/3462174668.py\u001b[0m in \u001b[0;36m<module>\u001b[1;34m\u001b[0m\n\u001b[1;32m----> 1\u001b[1;33m sns.catplot(x='FABRICANTE', y='MEDIDA', data=df, \n\u001b[0m\u001b[0;32m      2\u001b[0m             kind=\"bar\", ci=None, aspect=.8)\n",
      "\u001b[1;32mC:\\Anaconda3\\lib\\site-packages\\seaborn\\_decorators.py\u001b[0m in \u001b[0;36minner_f\u001b[1;34m(*args, **kwargs)\u001b[0m\n\u001b[0;32m     44\u001b[0m             )\n\u001b[0;32m     45\u001b[0m         \u001b[0mkwargs\u001b[0m\u001b[1;33m.\u001b[0m\u001b[0mupdate\u001b[0m\u001b[1;33m(\u001b[0m\u001b[1;33m{\u001b[0m\u001b[0mk\u001b[0m\u001b[1;33m:\u001b[0m \u001b[0marg\u001b[0m \u001b[1;32mfor\u001b[0m \u001b[0mk\u001b[0m\u001b[1;33m,\u001b[0m \u001b[0marg\u001b[0m \u001b[1;32min\u001b[0m \u001b[0mzip\u001b[0m\u001b[1;33m(\u001b[0m\u001b[0msig\u001b[0m\u001b[1;33m.\u001b[0m\u001b[0mparameters\u001b[0m\u001b[1;33m,\u001b[0m \u001b[0margs\u001b[0m\u001b[1;33m)\u001b[0m\u001b[1;33m}\u001b[0m\u001b[1;33m)\u001b[0m\u001b[1;33m\u001b[0m\u001b[1;33m\u001b[0m\u001b[0m\n\u001b[1;32m---> 46\u001b[1;33m         \u001b[1;32mreturn\u001b[0m \u001b[0mf\u001b[0m\u001b[1;33m(\u001b[0m\u001b[1;33m**\u001b[0m\u001b[0mkwargs\u001b[0m\u001b[1;33m)\u001b[0m\u001b[1;33m\u001b[0m\u001b[1;33m\u001b[0m\u001b[0m\n\u001b[0m\u001b[0;32m     47\u001b[0m     \u001b[1;32mreturn\u001b[0m \u001b[0minner_f\u001b[0m\u001b[1;33m\u001b[0m\u001b[1;33m\u001b[0m\u001b[0m\n\u001b[0;32m     48\u001b[0m \u001b[1;33m\u001b[0m\u001b[0m\n",
      "\u001b[1;32mC:\\Anaconda3\\lib\\site-packages\\seaborn\\categorical.py\u001b[0m in \u001b[0;36mcatplot\u001b[1;34m(x, y, hue, data, row, col, col_wrap, estimator, ci, n_boot, units, seed, order, hue_order, row_order, col_order, kind, height, aspect, orient, color, palette, legend, legend_out, sharex, sharey, margin_titles, facet_kws, **kwargs)\u001b[0m\n\u001b[0;32m   3790\u001b[0m     \u001b[0mp\u001b[0m \u001b[1;33m=\u001b[0m \u001b[0m_CategoricalPlotter\u001b[0m\u001b[1;33m(\u001b[0m\u001b[1;33m)\u001b[0m\u001b[1;33m\u001b[0m\u001b[1;33m\u001b[0m\u001b[0m\n\u001b[0;32m   3791\u001b[0m     \u001b[0mp\u001b[0m\u001b[1;33m.\u001b[0m\u001b[0mrequire_numeric\u001b[0m \u001b[1;33m=\u001b[0m \u001b[0mplotter_class\u001b[0m\u001b[1;33m.\u001b[0m\u001b[0mrequire_numeric\u001b[0m\u001b[1;33m\u001b[0m\u001b[1;33m\u001b[0m\u001b[0m\n\u001b[1;32m-> 3792\u001b[1;33m     \u001b[0mp\u001b[0m\u001b[1;33m.\u001b[0m\u001b[0mestablish_variables\u001b[0m\u001b[1;33m(\u001b[0m\u001b[0mx_\u001b[0m\u001b[1;33m,\u001b[0m \u001b[0my_\u001b[0m\u001b[1;33m,\u001b[0m \u001b[0mhue\u001b[0m\u001b[1;33m,\u001b[0m \u001b[0mdata\u001b[0m\u001b[1;33m,\u001b[0m \u001b[0morient\u001b[0m\u001b[1;33m,\u001b[0m \u001b[0morder\u001b[0m\u001b[1;33m,\u001b[0m \u001b[0mhue_order\u001b[0m\u001b[1;33m)\u001b[0m\u001b[1;33m\u001b[0m\u001b[1;33m\u001b[0m\u001b[0m\n\u001b[0m\u001b[0;32m   3793\u001b[0m     if (\n\u001b[0;32m   3794\u001b[0m         \u001b[0morder\u001b[0m \u001b[1;32mis\u001b[0m \u001b[1;32mnot\u001b[0m \u001b[1;32mNone\u001b[0m\u001b[1;33m\u001b[0m\u001b[1;33m\u001b[0m\u001b[0m\n",
      "\u001b[1;32mC:\\Anaconda3\\lib\\site-packages\\seaborn\\categorical.py\u001b[0m in \u001b[0;36mestablish_variables\u001b[1;34m(self, x, y, hue, data, orient, order, hue_order, units)\u001b[0m\n\u001b[0;32m    154\u001b[0m \u001b[1;33m\u001b[0m\u001b[0m\n\u001b[0;32m    155\u001b[0m             \u001b[1;31m# Figure out the plotting orientation\u001b[0m\u001b[1;33m\u001b[0m\u001b[1;33m\u001b[0m\u001b[0m\n\u001b[1;32m--> 156\u001b[1;33m             orient = infer_orient(\n\u001b[0m\u001b[0;32m    157\u001b[0m                 \u001b[0mx\u001b[0m\u001b[1;33m,\u001b[0m \u001b[0my\u001b[0m\u001b[1;33m,\u001b[0m \u001b[0morient\u001b[0m\u001b[1;33m,\u001b[0m \u001b[0mrequire_numeric\u001b[0m\u001b[1;33m=\u001b[0m\u001b[0mself\u001b[0m\u001b[1;33m.\u001b[0m\u001b[0mrequire_numeric\u001b[0m\u001b[1;33m\u001b[0m\u001b[1;33m\u001b[0m\u001b[0m\n\u001b[0;32m    158\u001b[0m             )\n",
      "\u001b[1;32mC:\\Anaconda3\\lib\\site-packages\\seaborn\\_core.py\u001b[0m in \u001b[0;36minfer_orient\u001b[1;34m(x, y, orient, require_numeric)\u001b[0m\n\u001b[0;32m   1350\u001b[0m     \u001b[1;32melif\u001b[0m \u001b[0mrequire_numeric\u001b[0m \u001b[1;32mand\u001b[0m \u001b[1;34m\"numeric\"\u001b[0m \u001b[1;32mnot\u001b[0m \u001b[1;32min\u001b[0m \u001b[1;33m(\u001b[0m\u001b[0mx_type\u001b[0m\u001b[1;33m,\u001b[0m \u001b[0my_type\u001b[0m\u001b[1;33m)\u001b[0m\u001b[1;33m:\u001b[0m\u001b[1;33m\u001b[0m\u001b[1;33m\u001b[0m\u001b[0m\n\u001b[0;32m   1351\u001b[0m         \u001b[0merr\u001b[0m \u001b[1;33m=\u001b[0m \u001b[1;34m\"Neither the `x` nor `y` variable appears to be numeric.\"\u001b[0m\u001b[1;33m\u001b[0m\u001b[1;33m\u001b[0m\u001b[0m\n\u001b[1;32m-> 1352\u001b[1;33m         \u001b[1;32mraise\u001b[0m \u001b[0mTypeError\u001b[0m\u001b[1;33m(\u001b[0m\u001b[0merr\u001b[0m\u001b[1;33m)\u001b[0m\u001b[1;33m\u001b[0m\u001b[1;33m\u001b[0m\u001b[0m\n\u001b[0m\u001b[0;32m   1353\u001b[0m \u001b[1;33m\u001b[0m\u001b[0m\n\u001b[0;32m   1354\u001b[0m     \u001b[1;32melse\u001b[0m\u001b[1;33m:\u001b[0m\u001b[1;33m\u001b[0m\u001b[1;33m\u001b[0m\u001b[0m\n",
      "\u001b[1;31mTypeError\u001b[0m: Neither the `x` nor `y` variable appears to be numeric."
     ]
    }
   ],
   "source": [
    "sns.catplot(x='FABRICANTE', y='MEDIDA', data=df, \n",
    "            kind=\"bar\", ci=None, aspect=.8)"
   ]
  },
  {
   "cell_type": "code",
   "execution_count": null,
   "id": "b9eb26ab-8e90-464f-ac28-578518b3f561",
   "metadata": {},
   "outputs": [],
   "source": []
  }
 ],
 "metadata": {
  "kernelspec": {
   "display_name": "Python 3 (ipykernel)",
   "language": "python",
   "name": "python3"
  },
  "language_info": {
   "codemirror_mode": {
    "name": "ipython",
    "version": 3
   },
   "file_extension": ".py",
   "mimetype": "text/x-python",
   "name": "python",
   "nbconvert_exporter": "python",
   "pygments_lexer": "ipython3",
   "version": "3.9.7"
  }
 },
 "nbformat": 4,
 "nbformat_minor": 5
}
